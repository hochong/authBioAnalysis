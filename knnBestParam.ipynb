{
 "cells": [
  {
   "cell_type": "code",
   "execution_count": 1,
   "metadata": {},
   "outputs": [],
   "source": [
    "from utility.readCsvFile import openCSVFile, readAllCSVFile, readRedTeam\n",
    "import numpy as np"
   ]
  },
  {
   "cell_type": "code",
   "execution_count": 2,
   "metadata": {},
   "outputs": [],
   "source": [
    "#mapnames to numbers\n",
    "#mapUserComputerList[number] = name\n",
    "mapUserComputerList = []"
   ]
  },
  {
   "cell_type": "code",
   "execution_count": 3,
   "metadata": {},
   "outputs": [],
   "source": [
    "#test\n",
    "data,_ = openCSVFile(\"data/authpartitionaa\", mapUserComputerList)\n",
    "#print(data)"
   ]
  },
  {
   "cell_type": "code",
   "execution_count": 4,
   "metadata": {},
   "outputs": [
    {
     "name": "stdout",
     "output_type": "stream",
     "text": [
      "(3000, 3)\n"
     ]
    }
   ],
   "source": [
    "#test on one file\n",
    "np.array(data)\n",
    "print(np.shape(data))"
   ]
  },
  {
   "cell_type": "code",
   "execution_count": 5,
   "metadata": {},
   "outputs": [],
   "source": [
    "#read all files\n",
    "fileNamePrefix = \"data/authpartition\"\n",
    "data, mapList = readAllCSVFile(fileNamePrefix)\n"
   ]
  },
  {
   "cell_type": "code",
   "execution_count": 6,
   "metadata": {},
   "outputs": [
    {
     "name": "stdout",
     "output_type": "stream",
     "text": [
      "(2028000, 3)\n"
     ]
    }
   ],
   "source": [
    "#check data shape\n",
    "nparrayData = np.array(data)\n",
    "print(np.shape(nparrayData))"
   ]
  },
  {
   "cell_type": "code",
   "execution_count": 7,
   "metadata": {
    "scrolled": false
   },
   "outputs": [
    {
     "name": "stdout",
     "output_type": "stream",
     "text": [
      "(2028000, 2)\n",
      "(2028000, 1)\n"
     ]
    }
   ],
   "source": [
    "#separate X,y\n",
    "\n",
    "X = nparrayData[:,[0,1]]\n",
    "y = nparrayData[:,[2]]\n",
    "\n",
    "print(np.shape(X))\n",
    "print(np.shape(y))"
   ]
  },
  {
   "cell_type": "code",
   "execution_count": 8,
   "metadata": {},
   "outputs": [],
   "source": [
    "#MLP\n",
    "from sklearn.neighbors import KNeighborsClassifier\n"
   ]
  },
  {
   "cell_type": "code",
   "execution_count": 9,
   "metadata": {},
   "outputs": [],
   "source": [
    "from sklearn.model_selection import train_test_split\n",
    "X_train, X_test, y_train, y_test = train_test_split(X, y, test_size=0.1, random_state=110041455, shuffle=False)"
   ]
  },
  {
   "cell_type": "code",
   "execution_count": 10,
   "metadata": {},
   "outputs": [],
   "source": [
    "knnClassifier = KNeighborsClassifier(n_jobs=4, metric='manhattan', n_neighbors=16, weights='distance')\n",
    "knnClassifier = knnClassifier.fit(X_train,y_train.ravel())"
   ]
  },
  {
   "cell_type": "code",
   "execution_count": 11,
   "metadata": {},
   "outputs": [],
   "source": [
    "import pickle"
   ]
  },
  {
   "cell_type": "code",
   "execution_count": 12,
   "metadata": {},
   "outputs": [],
   "source": [
    "folder = \"classifier/\"\n",
    "classifierFileName = \"KNNBestParam.sav\"\n",
    "pickle.dump(knnClassifier, open(folder+classifierFileName, \"wb\"))"
   ]
  },
  {
   "cell_type": "code",
   "execution_count": 13,
   "metadata": {},
   "outputs": [
    {
     "data": {
      "text/plain": [
       "'\\nLoad_mlpClassifier = pickle.load(open(folder+classifierFileName, \"rb\"))\\n'"
      ]
     },
     "execution_count": 13,
     "metadata": {},
     "output_type": "execute_result"
    }
   ],
   "source": [
    "\"\"\"\n",
    "Load_mlpClassifier = pickle.load(open(folder+classifierFileName, \"rb\"))\n",
    "\"\"\""
   ]
  },
  {
   "cell_type": "code",
   "execution_count": 14,
   "metadata": {
    "scrolled": true
   },
   "outputs": [],
   "source": [
    "testFile = \"data/redteam.txt\"\n",
    "testdata, mapList = readRedTeam(testFile, mapList)"
   ]
  },
  {
   "cell_type": "code",
   "execution_count": 15,
   "metadata": {},
   "outputs": [],
   "source": [
    "testdata = np.array(testdata)"
   ]
  },
  {
   "cell_type": "code",
   "execution_count": 16,
   "metadata": {},
   "outputs": [
    {
     "name": "stdout",
     "output_type": "stream",
     "text": [
      "(749, 2)\n",
      "(749, 1)\n"
     ]
    }
   ],
   "source": [
    "#separate testX,testy\n",
    "\n",
    "testX = testdata[:,:2]\n",
    "testy = testdata[:,[2]]\n",
    "\n",
    "print(np.shape(testX))\n",
    "print(np.shape(testy))"
   ]
  },
  {
   "cell_type": "code",
   "execution_count": 17,
   "metadata": {},
   "outputs": [
    {
     "name": "stdout",
     "output_type": "stream",
     "text": [
      "0.021361815754339118\n"
     ]
    }
   ],
   "source": [
    "result = knnClassifier.score(testX, testy)\n",
    "print(result)"
   ]
  },
  {
   "cell_type": "code",
   "execution_count": 18,
   "metadata": {
    "scrolled": true
   },
   "outputs": [],
   "source": [
    "#test red team\n",
    "correct = 0\n",
    "incorrect = 0\n",
    "\n",
    "for t in testX:\n",
    "    result = knnClassifier.predict([t])\n",
    "    #print(result)\n",
    "    #threshold 0.5\n",
    "    if result>0.5:\n",
    "        correct = correct + 1\n",
    "    else:\n",
    "        incorrect = incorrect + 1"
   ]
  },
  {
   "cell_type": "code",
   "execution_count": 19,
   "metadata": {
    "scrolled": true
   },
   "outputs": [
    {
     "name": "stdout",
     "output_type": "stream",
     "text": [
      "correct: 16 incorrect: 733\n"
     ]
    }
   ],
   "source": [
    "print(\"correct: \"+str(correct)+\" incorrect: \"+str(incorrect))"
   ]
  },
  {
   "cell_type": "code",
   "execution_count": 20,
   "metadata": {
    "scrolled": true
   },
   "outputs": [
    {
     "name": "stdout",
     "output_type": "stream",
     "text": [
      "[array([25, 25])]\n",
      "0\n"
     ]
    }
   ],
   "source": [
    "print([X_test[0]])\n",
    "print(y_test[0][0])"
   ]
  },
  {
   "cell_type": "code",
   "execution_count": 21,
   "metadata": {},
   "outputs": [],
   "source": [
    "#test train data\n",
    "correct = 0\n",
    "truepositive = 0\n",
    "incorrect = 0\n",
    "counter = 0\n",
    "for t in X_test:\n",
    "    result = knnClassifier.predict([t])\n",
    "    #print(result)\n",
    "    #threshold 0.5\n",
    "    if result>0.5 and (not y_test[counter] == 0):\n",
    "        correct = correct + 1\n",
    "    elif result < 0.5 and y_test[counter] == 0:\n",
    "        truepositive = truepositive + 1\n",
    "        correct = correct + 1\n",
    "    else:\n",
    "        incorrect = incorrect + 1\n",
    "    counter = counter + 1"
   ]
  },
  {
   "cell_type": "code",
   "execution_count": 22,
   "metadata": {},
   "outputs": [
    {
     "name": "stdout",
     "output_type": "stream",
     "text": [
      "correct: 202222 truepositive: 201460 incorrect: 578\n"
     ]
    }
   ],
   "source": [
    "print(\"correct: \"+str(correct)+\" truepositive: \"+str(truepositive)+\" incorrect: \"+str(incorrect))"
   ]
  },
  {
   "cell_type": "code",
   "execution_count": null,
   "metadata": {},
   "outputs": [],
   "source": []
  }
 ],
 "metadata": {
  "kernelspec": {
   "display_name": "Python 3",
   "language": "python",
   "name": "python3"
  },
  "language_info": {
   "codemirror_mode": {
    "name": "ipython",
    "version": 3
   },
   "file_extension": ".py",
   "mimetype": "text/x-python",
   "name": "python",
   "nbconvert_exporter": "python",
   "pygments_lexer": "ipython3",
   "version": "3.8.5"
  }
 },
 "nbformat": 4,
 "nbformat_minor": 4
}
