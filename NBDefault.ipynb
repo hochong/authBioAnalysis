{
 "cells": [
  {
   "cell_type": "code",
   "execution_count": 1,
   "metadata": {},
   "outputs": [],
   "source": [
    "from utility.readCsvFile import openCSVFile, readAllCSVFile, readRedTeam\n",
    "import numpy as np"
   ]
  },
  {
   "cell_type": "code",
   "execution_count": 2,
   "metadata": {},
   "outputs": [],
   "source": [
    "#mapnames to numbers\n",
    "#mapUserComputerList[number] = name\n",
    "mapUserComputerList = []"
   ]
  },
  {
   "cell_type": "code",
   "execution_count": 3,
   "metadata": {},
   "outputs": [],
   "source": [
    "#test\n",
    "data,_ = openCSVFile(\"data/authpartitionaa\", mapUserComputerList)\n",
    "#print(data)"
   ]
  },
  {
   "cell_type": "code",
   "execution_count": 4,
   "metadata": {},
   "outputs": [
    {
     "name": "stdout",
     "output_type": "stream",
     "text": [
      "(3000, 3)\n"
     ]
    }
   ],
   "source": [
    "#test on one file\n",
    "np.array(data)\n",
    "print(np.shape(data))"
   ]
  },
  {
   "cell_type": "code",
   "execution_count": 5,
   "metadata": {},
   "outputs": [],
   "source": [
    "#read all files\n",
    "fileNamePrefix = \"data/authpartition\"\n",
    "data, mapList = readAllCSVFile(fileNamePrefix)\n"
   ]
  },
  {
   "cell_type": "code",
   "execution_count": 6,
   "metadata": {},
   "outputs": [
    {
     "name": "stdout",
     "output_type": "stream",
     "text": [
      "(2028000, 3)\n"
     ]
    }
   ],
   "source": [
    "#check data shape\n",
    "nparrayData = np.array(data)\n",
    "print(np.shape(nparrayData))"
   ]
  },
  {
   "cell_type": "code",
   "execution_count": 7,
   "metadata": {
    "scrolled": false
   },
   "outputs": [
    {
     "name": "stdout",
     "output_type": "stream",
     "text": [
      "(2028000, 2)\n",
      "(2028000, 1)\n"
     ]
    }
   ],
   "source": [
    "#separate X,y\n",
    "\n",
    "X = nparrayData[:,[0,1]]\n",
    "y = nparrayData[:,[2]]\n",
    "\n",
    "print(np.shape(X))\n",
    "print(np.shape(y))"
   ]
  },
  {
   "cell_type": "code",
   "execution_count": 8,
   "metadata": {},
   "outputs": [],
   "source": [
    "#MLP\n",
    "from sklearn.naive_bayes import GaussianNB\n"
   ]
  },
  {
   "cell_type": "code",
   "execution_count": 9,
   "metadata": {},
   "outputs": [],
   "source": [
    "from sklearn.model_selection import train_test_split\n",
    "X_train, X_test, y_train, y_test = train_test_split(X, y, test_size=0.1, random_state=110041455, shuffle=False)"
   ]
  },
  {
   "cell_type": "code",
   "execution_count": 10,
   "metadata": {},
   "outputs": [],
   "source": [
    "nbClassifier = GaussianNB()\n",
    "nbClassifier = nbClassifier.fit(X_train,y_train.ravel())"
   ]
  },
  {
   "cell_type": "code",
   "execution_count": null,
   "metadata": {
    "scrolled": true
   },
   "outputs": [],
   "source": []
  },
  {
   "cell_type": "code",
   "execution_count": 11,
   "metadata": {},
   "outputs": [],
   "source": [
    "import pickle"
   ]
  },
  {
   "cell_type": "code",
   "execution_count": 12,
   "metadata": {},
   "outputs": [],
   "source": [
    "folder = \"classifier/\"\n",
    "classifierFileName = \"NBDefault.sav\"\n",
    "pickle.dump(nbClassifier, open(folder+classifierFileName, \"wb\"))"
   ]
  },
  {
   "cell_type": "code",
   "execution_count": 13,
   "metadata": {},
   "outputs": [
    {
     "data": {
      "text/plain": [
       "'\\nLoad_mlpClassifier = pickle.load(open(folder+classifierFileName, \"rb\"))\\n'"
      ]
     },
     "execution_count": 13,
     "metadata": {},
     "output_type": "execute_result"
    }
   ],
   "source": [
    "\"\"\"\n",
    "Load_mlpClassifier = pickle.load(open(folder+classifierFileName, \"rb\"))\n",
    "\"\"\""
   ]
  },
  {
   "cell_type": "code",
   "execution_count": 14,
   "metadata": {
    "scrolled": true
   },
   "outputs": [],
   "source": [
    "testFile = \"data/redteam.txt\"\n",
    "testdata, mapList = readRedTeam(testFile, mapList)"
   ]
  },
  {
   "cell_type": "code",
   "execution_count": 15,
   "metadata": {},
   "outputs": [],
   "source": [
    "testdata = np.array(testdata)"
   ]
  },
  {
   "cell_type": "code",
   "execution_count": 16,
   "metadata": {},
   "outputs": [
    {
     "name": "stdout",
     "output_type": "stream",
     "text": [
      "(749, 2)\n",
      "(749, 1)\n"
     ]
    }
   ],
   "source": [
    "#separate testX,testy\n",
    "\n",
    "testX = testdata[:,:2]\n",
    "testy = testdata[:,[2]]\n",
    "\n",
    "print(np.shape(testX))\n",
    "print(np.shape(testy))"
   ]
  },
  {
   "cell_type": "code",
   "execution_count": 17,
   "metadata": {},
   "outputs": [
    {
     "name": "stdout",
     "output_type": "stream",
     "text": [
      "0.2897196261682243\n"
     ]
    }
   ],
   "source": [
    "result = nbClassifier.score(testX, testy)\n",
    "print(result)"
   ]
  },
  {
   "cell_type": "code",
   "execution_count": 26,
   "metadata": {
    "scrolled": true
   },
   "outputs": [],
   "source": [
    "#test red team\n",
    "correct = 0\n",
    "incorrect = 0\n",
    "redteamTrueNegativeList = []\n",
    "for t in testX:\n",
    "    result = nbClassifier.predict([t])\n",
    "    #print(result)\n",
    "    #threshold 0.5\n",
    "    if result>0.5:\n",
    "        correct = correct + 1\n",
    "        redteamTrueNegativeList.append(t)\n",
    "    else:\n",
    "        incorrect = incorrect + 1"
   ]
  },
  {
   "cell_type": "code",
   "execution_count": 27,
   "metadata": {},
   "outputs": [
    {
     "name": "stdout",
     "output_type": "stream",
     "text": [
      "correct: 217 incorrect: 532\n"
     ]
    }
   ],
   "source": [
    "print(\"correct: \"+str(correct)+\" incorrect: \"+str(incorrect))"
   ]
  },
  {
   "cell_type": "code",
   "execution_count": 20,
   "metadata": {},
   "outputs": [
    {
     "name": "stdout",
     "output_type": "stream",
     "text": [
      "[array([25, 25])]\n",
      "0\n"
     ]
    }
   ],
   "source": [
    "print([X_test[0]])\n",
    "print(y_test[0][0])"
   ]
  },
  {
   "cell_type": "code",
   "execution_count": 23,
   "metadata": {},
   "outputs": [],
   "source": [
    "#test train data\n",
    "correct = 0\n",
    "truepositive = 0\n",
    "incorrect = 0\n",
    "counter = 0\n",
    "trueNegativeList = []\n",
    "for t in X_test:\n",
    "    result = nbClassifier.predict([t])\n",
    "    #print(result)\n",
    "    #threshold 0.5\n",
    "    if result>0.5 and (not y_test[counter] == 0):\n",
    "        correct = correct + 1\n",
    "        trueNegativeList.append(t)\n",
    "    elif result < 0.5 and y_test[counter] == 0:\n",
    "        truepositive = truepositive + 1\n",
    "        correct = correct + 1\n",
    "    else:\n",
    "        incorrect = incorrect + 1\n",
    "    counter = counter + 1"
   ]
  },
  {
   "cell_type": "code",
   "execution_count": 24,
   "metadata": {},
   "outputs": [
    {
     "name": "stdout",
     "output_type": "stream",
     "text": [
      "correct: 198205 truepositive: 198122 incorrect: 4595\n"
     ]
    }
   ],
   "source": [
    "print(\"correct: \"+str(correct)+\" truepositive: \"+str(truepositive)+\" incorrect: \"+str(incorrect))"
   ]
  },
  {
   "cell_type": "code",
   "execution_count": 28,
   "metadata": {},
   "outputs": [
    {
     "name": "stdout",
     "output_type": "stream",
     "text": [
      "[array([4356, 3442]), array([4356, 3744]), array([4356, 3744]), array([4356, 3744]), array([4356, 3744]), array([4356, 3744]), array([4356, 3744]), array([4356, 4359]), array([4356, 3700]), array([4356, 3102]), array([4356, 3933]), array([4356, 4360]), array([4356, 4361]), array([4356, 4361]), array([4356, 4361]), array([4356, 4361]), array([4356, 4361]), array([4356, 4362]), array([4356, 4362]), array([4356, 4363]), array([4356, 4363]), array([4356, 4364]), array([4356, 4365]), array([4356, 4366]), array([4356, 4367]), array([4356, 3761]), array([4356, 3122]), array([4356, 3663]), array([4356, 3538]), array([4356, 4368]), array([4356, 4369]), array([4356, 4370]), array([4356, 4371]), array([4356, 4371]), array([4356, 4371]), array([4356, 3114]), array([4356, 4372]), array([4356, 4372]), array([4356, 4373]), array([4356, 4374]), array([4356, 3397]), array([4356, 4375]), array([4356, 3604]), array([4356, 3604]), array([4356, 4376]), array([4356, 4377]), array([4356, 4376]), array([4356, 4377]), array([4356, 4377]), array([4356, 3613]), array([4356, 3052]), array([4356, 4377]), array([4356, 4378]), array([4356, 4378]), array([4356, 4379]), array([4356, 4379]), array([4356, 4380]), array([4356, 4381]), array([4356, 4380]), array([4356, 4380]), array([4356, 4382]), array([4356, 4383]), array([4356, 4384]), array([4356, 4385]), array([4356, 4385]), array([4356, 4386]), array([4356, 4372]), array([4356, 4372]), array([4356, 3478]), array([4356, 3664]), array([4356, 4386]), array([4356, 4387]), array([4356, 4388]), array([4356, 4389]), array([4356, 4390]), array([4356, 4391]), array([4356, 4392]), array([4356, 4392]), array([4356, 3214]), array([4356, 4393]), array([4356, 3756]), array([4356, 4394]), array([4356, 3300]), array([4356, 3300]), array([4356, 4395]), array([4356, 4395]), array([4356, 4396]), array([4356, 3291]), array([4356, 3069]), array([4356, 3916]), array([4356, 3663]), array([4356, 4375]), array([4356, 4364]), array([4356, 3562]), array([4356, 3454]), array([4356, 4397]), array([4356, 4398]), array([4356, 4397]), array([4356, 4399]), array([4356, 4399]), array([4356, 4400]), array([4356, 4401]), array([4356, 4398]), array([4356, 4397]), array([4356, 4397]), array([4356, 4402]), array([4356, 4403]), array([4356, 4404]), array([4356, 3222]), array([4356, 4386]), array([4356, 4405]), array([4356, 4405]), array([4356, 4406]), array([4356, 4407]), array([4356, 3184]), array([4356, 3291]), array([4356, 3291]), array([4356, 3562]), array([4356, 4408]), array([4356, 3103]), array([4356, 3255]), array([4356, 3562]), array([4356, 3291]), array([4356, 3410]), array([4356, 3291]), array([4356, 3410]), array([4356, 3410]), array([4356, 4410]), array([4356, 3291]), array([4356, 4411]), array([4356, 3908]), array([4356, 3908]), array([4356, 3548]), array([4356, 3838]), array([4356, 3103]), array([4356, 4411]), array([4356, 4412]), array([4356, 4245]), array([4356, 4113]), array([4356, 3654]), array([4356, 3759]), array([4356, 4413]), array([4356, 3941]), array([4356, 3114]), array([4356, 3941]), array([4356, 3114]), array([4356, 3114]), array([4356, 3114]), array([4356, 4414]), array([4356, 4414]), array([4356, 4362]), array([4356, 4362]), array([4356, 4362]), array([4356, 4414]), array([4356, 4414]), array([4356, 3530]), array([4356, 3530]), array([4356, 3530]), array([4356, 3745]), array([4356, 4415]), array([4356, 4416]), array([4356, 3372]), array([4356, 3484]), array([4356, 3759]), array([4356, 3152]), array([4356, 4417]), array([4356, 4418]), array([4356, 4419]), array([4356, 3937]), array([4356, 3624]), array([4356, 3624]), array([4356, 3488]), array([4356, 4414]), array([4356, 4420]), array([4356, 3723]), array([4356, 3723]), array([4356, 4421]), array([4356, 4421]), array([4356, 4421]), array([4356, 4421]), array([4356, 4421]), array([4356, 4421]), array([4356, 4421]), array([4356, 4421]), array([4356, 4421]), array([4356, 4421]), array([4356, 4421]), array([4356, 4421]), array([4356, 3723]), array([4356, 4422]), array([4356, 3218]), array([4356, 4423]), array([4356, 3854]), array([4356, 4424]), array([4356, 3181]), array([4356, 3052]), array([4356, 3052]), array([4356, 3052]), array([4356, 3052]), array([4356, 3603]), array([4356, 3863]), array([4356, 4425]), array([4356, 3538]), array([4356, 4369]), array([4356, 3484]), array([4356, 4414]), array([4356, 4414]), array([4356, 3102]), array([4356, 4368]), array([4356, 3410]), array([4356, 4371]), array([4356, 3114]), array([4356, 4373]), array([4356, 4398]), array([4356, 3291]), array([4356, 4382]), array([4356, 4382])]\n"
     ]
    }
   ],
   "source": [
    "print(redteamTrueNegativeList)"
   ]
  },
  {
   "cell_type": "code",
   "execution_count": 25,
   "metadata": {},
   "outputs": [
    {
     "name": "stdout",
     "output_type": "stream",
     "text": [
      "[array([3568, 3568]), array([3600, 3600]), array([3733, 3733]), array([3568, 3568]), array([3733, 3733]), array([3949, 3949]), array([3098, 3098]), array([3901, 3901]), array([3901, 3901]), array([3969, 3969]), array([3098, 3098]), array([3600, 3600]), array([3901, 3901]), array([1528, 4319]), array([4319, 4319]), array([4319, 4319]), array([3368, 3368]), array([3368, 3368]), array([3600, 3600]), array([1528, 4323]), array([4323, 4323]), array([3483, 3483]), array([3568, 3568]), array([3568, 3568]), array([3483, 3483]), array([3483, 3483]), array([3414, 3414]), array([3568, 3568]), array([3414, 3414]), array([3568, 3568]), array([3568, 3568]), array([3949, 3949]), array([1528, 4328]), array([4328, 4328]), array([3098, 3098]), array([3969, 3969]), array([4328, 4328]), array([3098, 3098]), array([4332, 4332]), array([4332, 4332]), array([3483, 3483]), array([3483, 3483]), array([4334, 4334]), array([4334, 4334]), array([4332, 4332]), array([1528, 4332]), array([4332, 4332]), array([1528, 4332]), array([4332, 4332]), array([1528, 4332]), array([3483, 3483]), array([3483, 3483]), array([3483, 3483]), array([3483, 3483]), array([3483, 3483]), array([3483, 3483]), array([4336, 4315]), array([3308, 4334]), array([4341, 4299]), array([1528, 4340]), array([3043, 3043]), array([1528, 4340]), array([3043, 3043]), array([3043, 3043]), array([4292, 4292]), array([4285, 4285]), array([4348, 4279]), array([3483, 3483]), array([  20, 4349]), array([3568, 3568]), array([3483, 3483]), array([3568, 3568]), array([3568, 3568]), array([4352, 4352]), array([3568, 3568]), array([4352, 4352]), array([4353, 4353]), array([4354, 4354]), array([1528, 4327]), array([4327, 4327]), array([4353, 4353]), array([1528, 4327]), array([4327, 4327])]\n"
     ]
    }
   ],
   "source": [
    "print (trueNegativeList)"
   ]
  },
  {
   "cell_type": "code",
   "execution_count": null,
   "metadata": {},
   "outputs": [],
   "source": []
  }
 ],
 "metadata": {
  "kernelspec": {
   "display_name": "Python 3",
   "language": "python",
   "name": "python3"
  },
  "language_info": {
   "codemirror_mode": {
    "name": "ipython",
    "version": 3
   },
   "file_extension": ".py",
   "mimetype": "text/x-python",
   "name": "python",
   "nbconvert_exporter": "python",
   "pygments_lexer": "ipython3",
   "version": "3.8.5"
  }
 },
 "nbformat": 4,
 "nbformat_minor": 4
}
